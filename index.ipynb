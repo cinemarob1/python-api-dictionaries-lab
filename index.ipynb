{
 "cells": [
  {
   "cell_type": "markdown",
   "metadata": {},
   "source": [
    "# API Exercises"
   ]
  },
  {
   "cell_type": "markdown",
   "metadata": {},
   "source": [
    "Here are two exercises that involve working with APIs and dictionaries.\n",
    "\n",
    "One is using the Open Brewery API found at https://www.openbrewerydb.org/, and the other is using the API for UK Police Data, found at https://data.police.uk/docs/.\n",
    "\n",
    "You can complete them in either order!\n",
    "\n",
    "Remember that you can create new cells with esc + a or b"
   ]
  },
  {
   "cell_type": "markdown",
   "metadata": {},
   "source": [
    "## Breweries"
   ]
  },
  {
   "cell_type": "markdown",
   "metadata": {},
   "source": [
    "### Q1: Load the first page of results with 50 results per page"
   ]
  },
  {
   "cell_type": "code",
   "execution_count": null,
   "metadata": {},
   "outputs": [],
   "source": [
    "#url = 'https://api.openbrewerydb.org/breweries?page=1&per_page=50'\n"
   ]
  },
  {
   "cell_type": "markdown",
   "metadata": {},
   "source": [
    "### Q2: This is only the first 50 results.  Get the next 50 and put them together."
   ]
  },
  {
   "cell_type": "code",
   "execution_count": 1,
   "metadata": {},
   "outputs": [],
   "source": [
    "#worked on the Breweries section with Kyle Powers, did not have time to copy paste our result here\n"
   ]
  },
  {
   "cell_type": "markdown",
   "metadata": {},
   "source": [
    "### Q3: How many of these 100 breweries in are in Alaska?"
   ]
  },
  {
   "cell_type": "code",
   "execution_count": null,
   "metadata": {},
   "outputs": [],
   "source": [
    "\n"
   ]
  },
  {
   "cell_type": "markdown",
   "metadata": {},
   "source": [
    "### Q4: Of these 100 breweries, what are the different unique brewery types?"
   ]
  },
  {
   "cell_type": "code",
   "execution_count": null,
   "metadata": {},
   "outputs": [],
   "source": [
    "\n"
   ]
  },
  {
   "cell_type": "markdown",
   "metadata": {},
   "source": [
    "### Q5: What is the cloest brewery to \"Devil's Potion Brewing Company LLC\" ?\n",
    "* Hint 1: Use Euclidian distance w/ longitude and latitude (assume longitude and latitude are a Carteisan coordinate system)\n",
    "* Hint 2: You'll have to ignore the entries with \"none\" for latitude or longitude"
   ]
  },
  {
   "cell_type": "code",
   "execution_count": null,
   "metadata": {},
   "outputs": [],
   "source": [
    "\n"
   ]
  },
  {
   "cell_type": "markdown",
   "metadata": {},
   "source": [
    "### Q6: Write a function to find the closest brewery to any other given brewery"
   ]
  },
  {
   "cell_type": "code",
   "execution_count": null,
   "metadata": {},
   "outputs": [],
   "source": [
    "\n"
   ]
  },
  {
   "cell_type": "markdown",
   "metadata": {},
   "source": [
    "### Q7: How would you get the first 10 pages from this API and put them all together using a for loop?"
   ]
  },
  {
   "cell_type": "code",
   "execution_count": null,
   "metadata": {},
   "outputs": [],
   "source": [
    "\n"
   ]
  },
  {
   "cell_type": "markdown",
   "metadata": {},
   "source": [
    "# Crime in the UK"
   ]
  },
  {
   "cell_type": "markdown",
   "metadata": {},
   "source": [
    "### We will be analyzing different crimes reported in the UK as provided by https://data.police.uk/docs/"
   ]
  },
  {
   "cell_type": "markdown",
   "metadata": {},
   "source": [
    "# Exploratory analysis\n",
    "##### 1. How many total crimes were there at latitude : 52.63902 and -1.131321 on November of 2017.\n",
    "Use the street level crimes data, the documentation for the API can be found at https://data.police.uk/docs/method/crime-street/"
   ]
  },
  {
   "cell_type": "code",
   "execution_count": 33,
   "metadata": {},
   "outputs": [
    {
     "data": {
      "text/plain": [
       "[{'category': 'criminal-damage-arson',\n",
       "  'location_type': 'Force',\n",
       "  'location': {'latitude': '52.638691',\n",
       "   'street': {'id': 883400, 'name': 'On or near Nightclub'},\n",
       "   'longitude': '-1.131914'},\n",
       "  'context': '',\n",
       "  'outcome_status': {'category': 'Offender given suspended prison sentence',\n",
       "   'date': '2017-11'},\n",
       "  'persistent_id': '3a21094742f2daa7d84a32d28d81e8ae3c7248726086397b472cde49f0d66bf0',\n",
       "  'id': 61222456,\n",
       "  'location_subtype': '',\n",
       "  'month': '2017-11'},\n",
       " {'category': 'public-order',\n",
       "  'location_type': 'Force',\n",
       "  'location': {'latitude': '52.638691',\n",
       "   'street': {'id': 883400, 'name': 'On or near Nightclub'},\n",
       "   'longitude': '-1.131914'},\n",
       "  'context': '',\n",
       "  'outcome_status': {'category': 'Formal action is not in the public interest',\n",
       "   'date': '2018-05'},\n",
       "  'persistent_id': '2f8a7655a1ac5931b2a127ea04791a594af055ba7cf001a42c1b3b99c005a26b',\n",
       "  'id': 61227826,\n",
       "  'location_subtype': '',\n",
       "  'month': '2017-11'},\n",
       " {'category': 'violent-crime',\n",
       "  'location_type': 'Force',\n",
       "  'location': {'latitude': '52.638691',\n",
       "   'street': {'id': 883400, 'name': 'On or near Nightclub'},\n",
       "   'longitude': '-1.131914'},\n",
       "  'context': '',\n",
       "  'outcome_status': {'category': 'Unable to prosecute suspect',\n",
       "   'date': '2017-11'},\n",
       "  'persistent_id': 'ca0f5a559c352f7710f3f4a799d68d54938ca0993465e7bd298691166425a038',\n",
       "  'id': 61228030,\n",
       "  'location_subtype': '',\n",
       "  'month': '2017-11'},\n",
       " {'category': 'violent-crime',\n",
       "  'location_type': 'Force',\n",
       "  'location': {'latitude': '52.638691',\n",
       "   'street': {'id': 883400, 'name': 'On or near Nightclub'},\n",
       "   'longitude': '-1.131914'},\n",
       "  'context': '',\n",
       "  'outcome_status': {'category': 'Court result unavailable',\n",
       "   'date': '2018-06'},\n",
       "  'persistent_id': 'c72cc38a4c39844866eb40d31b984de8bc7a030f8c43e619a68fb3984b213cf1',\n",
       "  'id': 61222508,\n",
       "  'location_subtype': '',\n",
       "  'month': '2017-11'},\n",
       " {'category': 'other-crime',\n",
       "  'location_type': 'Force',\n",
       "  'location': {'latitude': '52.638691',\n",
       "   'street': {'id': 883400, 'name': 'On or near Nightclub'},\n",
       "   'longitude': '-1.131914'},\n",
       "  'context': '',\n",
       "  'outcome_status': {'category': 'Unable to prosecute suspect',\n",
       "   'date': '2017-12'},\n",
       "  'persistent_id': 'a0338acb76613725846d5a5c6300d31564e88c43de8ace64186ddb27d60af46c',\n",
       "  'id': 61222306,\n",
       "  'location_subtype': '',\n",
       "  'month': '2017-11'}]"
      ]
     },
     "execution_count": 33,
     "metadata": {},
     "output_type": "execute_result"
    }
   ],
   "source": [
    "import json\n",
    "import requests\n",
    "import urllib\n",
    "\n",
    "def make_api_request(lat, lng, date=None):\n",
    "    url = \"https://data.police.uk/api/crimes-at-location?date={}&lat={}&lng={}\".format(date,lat,lng)\n",
    "    response = urllib.request.urlopen(url)\n",
    "    data = json.loads(response.read())\n",
    "    return data\n",
    "#     return json.dumps(data)\n",
    "\n",
    "(make_api_request(52.63902,-1.131321,'2017-11'))"
   ]
  },
  {
   "cell_type": "markdown",
   "metadata": {},
   "source": [
    "##### 2. We've queried the API once, but it could get annoying to retype the url over and over again, create a function `make_api_request` that enables you to query the API.\n",
    "\n",
    "\n",
    " The parameters for the function should be:\n",
    "* lat (float) : latitude\n",
    "* lng (float) : longitude\n",
    "* date (string): Date in the format YYYY-MM\n",
    "    * default value = `None`\n",
    "    \n",
    "And it should return a json object of \n",
    "\n",
    "for more information on default values check out http://blog.thedigitalcatonline.com/blog/2015/02/11/default-arguments-in-python/"
   ]
  },
  {
   "cell_type": "code",
   "execution_count": 34,
   "metadata": {},
   "outputs": [
    {
     "data": {
      "text/plain": [
       "5"
      ]
     },
     "execution_count": 34,
     "metadata": {},
     "output_type": "execute_result"
    }
   ],
   "source": [
    "len(make_api_request(52.63902,-1.131321,'2017-11'))"
   ]
  },
  {
   "cell_type": "markdown",
   "metadata": {},
   "source": [
    "##### 3. Write a function `categories_of_crime` that will determine the count of each type of crime for a given latitude and longitude. This is labelled as 'category' in the records. Your function should call the `make_api_request` function you created.\n",
    "\n",
    "The parameters for the function should be:\n",
    "\n",
    "* lat (float) : latitude\n",
    "* lng (float) : longitude\n",
    "* date (str) default = None\n",
    "\n",
    "The function should return:\n",
    "* a dictionary with the count of each type of crime\n",
    "\n",
    "\n",
    "\n",
    "Once you've created the function, try it with these locations\n",
    "* lat, lng of 51.5017861,-0.1432319   (Buckingham Palace)\n",
    "* lat, lng of 53.480161, -2.245163     (Manchester)"
   ]
  },
  {
   "cell_type": "code",
   "execution_count": 45,
   "metadata": {},
   "outputs": [
    {
     "data": {
      "text/plain": [
       "{'vehicle-crime': 1}"
      ]
     },
     "execution_count": 45,
     "metadata": {},
     "output_type": "execute_result"
    }
   ],
   "source": [
    "from collections import Counter\n",
    "\n",
    "def categories_of_crime(lat,lng,date=None):\n",
    "    crimes = make_api_request(lat,lng,date)\n",
    "    cats_of_crime = Counter(map(lambda crime: crime['category'],crimes))\n",
    "    return dict(cats_of_crime)\n",
    "\n",
    "categories_of_crime(53.480161,-2.245163,None)"
   ]
  },
  {
   "cell_type": "markdown",
   "metadata": {},
   "source": [
    "**Bonus**: \n",
    "* Write a function that determines the difference between Buckingham Palace and Manchester in terms of the number of crimes in each category.\n",
    "    * In which category is there the largest absolute difference between the category of crime?\n",
    "* Create a histogram depiction of the categories of crime"
   ]
  },
  {
   "cell_type": "code",
   "execution_count": null,
   "metadata": {},
   "outputs": [],
   "source": [
    "\n"
   ]
  },
  {
   "cell_type": "markdown",
   "metadata": {},
   "source": [
    "##### 4. Create a function `find_outcome_statuses` that will determine outcome statuses for a given latitude and longitude and date (optional)?\n",
    "Investigate the data to determine where the outcome statuses are located.\n",
    "\n",
    "**NOTE**: You'll notice that some of these crimes do not have crime outcomes. Make these into the category of \"Not Resolved.\"\n",
    "\n",
    "**NOTE 2**: These might take a long time to execute if you do not specify a month\n",
    "\n",
    "**Bonus**: What is the ratio of crimes investigated to those not investigated? Is it higher near London or Manchester?"
   ]
  },
  {
   "cell_type": "code",
   "execution_count": null,
   "metadata": {},
   "outputs": [],
   "source": [
    "\n"
   ]
  },
  {
   "cell_type": "markdown",
   "metadata": {},
   "source": [
    "##### 5. Write a function `month_highest_crimes` that will return the month that had the highest number of crimes for a latitude, longitude and a year.\n",
    "\n",
    "Inputs\n",
    "* lat (float) : latitude\n",
    "* lng (float) : longitude\n",
    "* year (str) : in the format YYYY\n",
    "\n",
    "Output\n",
    "* month with highest crime (int)\n",
    "\n",
    "**Bonus** Make a graph of how the number of crimes changed over time for a year. This will likely require a new function. Is seasonality a factor? Do the type of crimes change over time?"
   ]
  },
  {
   "cell_type": "code",
   "execution_count": 130,
   "metadata": {},
   "outputs": [
    {
     "name": "stdout",
     "output_type": "stream",
     "text": [
      "{'jan': {'public-order': 2, 'robbery': 1, 'violent-crime': 1}}\n",
      "{'feb': {'criminal-damage-arson': 2, 'public-order': 1, 'violent-crime': 1, 'other-crime': 1}}\n",
      "{'mar': {'criminal-damage-arson': 1, 'possession-of-weapons': 1, 'public-order': 3, 'violent-crime': 2, 'other-crime': 1}}\n",
      "{'apr': {'anti-social-behaviour': 2, 'criminal-damage-arson': 1, 'shoplifting': 1, 'violent-crime': 1}}\n",
      "{'may': {'criminal-damage-arson': 1, 'drugs': 1, 'public-order': 1, 'other-crime': 1}}\n",
      "{'jun': {'burglary': 1, 'criminal-damage-arson': 1, 'public-order': 1, 'violent-crime': 2}}\n",
      "{'jul': {'drugs': 1, 'public-order': 1, 'violent-crime': 2, 'other-crime': 3}}\n",
      "{'aug': {'other-theft': 1, 'public-order': 1}}\n",
      "{'sep': {'bicycle-theft': 1, 'criminal-damage-arson': 1, 'violent-crime': 1}}\n",
      "{'oct': {'bicycle-theft': 1, 'other-theft': 1, 'public-order': 1, 'violent-crime': 2}}\n",
      "{'nov': {'criminal-damage-arson': 1, 'public-order': 1, 'violent-crime': 2, 'other-crime': 1}}\n",
      "{'dec': {'burglary': 2, 'criminal-damage-arson': 1, 'public-order': 2, 'violent-crime': 1}}\n"
     ]
    },
    {
     "data": {
      "text/plain": [
       "['jan',\n",
       " 'feb',\n",
       " 'mar',\n",
       " 'apr',\n",
       " 'may',\n",
       " 'jun',\n",
       " 'jul',\n",
       " 'aug',\n",
       " 'sep',\n",
       " 'oct',\n",
       " 'nov',\n",
       " 'dec']"
      ]
     },
     "execution_count": 130,
     "metadata": {},
     "output_type": "execute_result"
    }
   ],
   "source": [
    "def month_highest_crimes(lat,lng,year):\n",
    "    months = ['jan','feb','mar','apr','may','jun','jul','aug','sep','oct','nov','dec']\n",
    "    crimes_by_month = []\n",
    "    for month in range(0,len(months)):\n",
    "        crimes_by_month.append({months[month]: categories_of_crime(lat,lng,\"{}-{}\".format(year,month+1))})\n",
    "    return crimes_by_month\n",
    "\n",
    "month_highest_crimes(52.63902, -1.131321, '2017')"
   ]
  },
  {
   "cell_type": "markdown",
   "metadata": {},
   "source": [
    "### Bonus Open Ended Questions\n",
    "\n",
    "1. Take a look at the https://data.police.uk/docs/method/stops-street/ API. Is there a correlation between gender and being stopped and searched? How about race and being stopped and searched?"
   ]
  },
  {
   "cell_type": "code",
   "execution_count": null,
   "metadata": {},
   "outputs": [],
   "source": [
    "\n"
   ]
  }
 ],
 "metadata": {
  "kernelspec": {
   "display_name": "Python 3",
   "language": "python",
   "name": "python3"
  },
  "language_info": {
   "codemirror_mode": {
    "name": "ipython",
    "version": 3
   },
   "file_extension": ".py",
   "mimetype": "text/x-python",
   "name": "python",
   "nbconvert_exporter": "python",
   "pygments_lexer": "ipython3",
   "version": "3.7.0"
  }
 },
 "nbformat": 4,
 "nbformat_minor": 2
}
